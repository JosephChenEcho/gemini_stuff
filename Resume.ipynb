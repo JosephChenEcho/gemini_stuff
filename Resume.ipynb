{
  "nbformat": 4,
  "nbformat_minor": 0,
  "metadata": {
    "colab": {
      "provenance": [],
      "toc_visible": true,
      "authorship_tag": "ABX9TyNVCrOe0BqSjPae5Zm9P+wT",
      "include_colab_link": true
    },
    "kernelspec": {
      "name": "python3",
      "display_name": "Python 3"
    },
    "language_info": {
      "name": "python"
    }
  },
  "cells": [
    {
      "cell_type": "markdown",
      "metadata": {
        "id": "view-in-github",
        "colab_type": "text"
      },
      "source": [
        "<a href=\"https://colab.research.google.com/github/JosephChenEcho/gemini_stuff/blob/main/Resume.ipynb\" target=\"_parent\"><img src=\"https://colab.research.google.com/assets/colab-badge.svg\" alt=\"Open In Colab\"/></a>"
      ]
    },
    {
      "cell_type": "code",
      "source": [
        "import google.generativeai as genai\n",
        "import requests\n",
        "from bs4 import BeautifulSoup\n",
        "import re\n",
        "import urllib.parse\n",
        "\n"
      ],
      "metadata": {
        "id": "kB0YOTEMV1XG"
      },
      "execution_count": null,
      "outputs": []
    },
    {
      "cell_type": "code",
      "execution_count": null,
      "metadata": {
        "id": "6SSJ-vQ2VnNj"
      },
      "outputs": [],
      "source": [
        "from google.colab import userdata\n",
        "GOOGLE_API_KEY=userdata.get('GOOGLE_API_KEY')\n",
        "genai.configure(api_key=GOOGLE_API_KEY)\n",
        "model = genai.GenerativeModel('gemini-pro')\n",
        "\n"
      ]
    },
    {
      "cell_type": "code",
      "source": [
        "def get_html(url):\n",
        "    try:\n",
        "        response = requests.get(url)\n",
        "        response.raise_for_status()  # Check if the request was successful\n",
        "        return response.text\n",
        "    except requests.exceptions.HTTPError as http_err:\n",
        "        print(f'HTTP error occurred: {http_err}')\n",
        "    except Exception as err:\n",
        "        print(f'Other error occurred: {err}')\n",
        "\n",
        "# Example usage\n",
        "# url = 'https://www.linkedin.com/jobs/view/data-scientist-decisions-at-lyft-3926349865/'\n",
        "# html_content = get_html(url)\n",
        "\n",
        "def get_job_description(url):\n",
        "  html_content = get_html(url)\n",
        "  soup = BeautifulSoup(html_content, 'html.parser')\n",
        "  elements = soup.find('div', class_='show-more-less-html__markup show-more-less-html__markup--clamp-after-5 relative overflow-hidden')\n",
        "  job_description = str(elements)\n",
        "  job_description=re.sub(r'<div.*>', '', job_description)\n",
        "  job_description=re.sub(r'</div>', '', job_description)\n",
        "\n",
        "  return job_description\n",
        "\n",
        "def get_resume_score(resume, target_position):\n",
        "\n",
        "  return f\"\"\"\n",
        "  [System]\n",
        "\n",
        "  Please act as a professional resume scoring system and provide valuable improve hints.\n",
        "\n",
        "  [User Question]\n",
        "\n",
        "  Here is my resume:\n",
        "\n",
        "  {resume}\n",
        "\n",
        "  Only answer the three following questions with score from 0-10 and provide improve hints:\n",
        "  1. Does this resume have Relevant Work Experience for the {target_position} role?\n",
        "  2. Does this resume have Quantifiable Achievements for the {target_position} role?\n",
        "  3. Does this resume have Keyword Alignment for the {target_position} role?\n",
        "  \"\"\"\n"
      ],
      "metadata": {
        "id": "R9nzsSRDiPNC"
      },
      "execution_count": null,
      "outputs": []
    },
    {
      "cell_type": "code",
      "source": [
        "target_position = 'Program Manager'\n",
        "my_resume = \"\"\"\n",
        "\n",
        "\"\"\""
      ],
      "metadata": {
        "id": "HbW46A_IGV_I"
      },
      "execution_count": null,
      "outputs": []
    },
    {
      "cell_type": "code",
      "source": [
        "# main function\n",
        "\n",
        "html_content = get_html(f'https://www.linkedin.com/jobs/search/?keywords={urllib.parse.quote(target_position)}&location=United%20States')\n",
        "linkedin_view_links = re.findall(r'https:\\/\\/www\\.linkedin\\.com\\/jobs\\/view\\/[\\w-]+', html_content)\n",
        "# print(linkedin_view_links)\n",
        "\n",
        "job_description_list = []\n",
        "job_description_long_text = ''\n",
        "for link in linkedin_view_links[:10]:\n",
        "  # job_description_list.append(get_job_description(link))\n",
        "  job_description_long_text += get_job_description(link) + '\\n'\n",
        "\n",
        "\n",
        "my_resume_prompt = get_resume_score(my_resume, target_position)\n",
        "\n",
        "response = model.generate_content(my_resume_prompt)\n",
        "my_resume_score = response.text\n",
        "print(\"\\n[My Resume Score]\")\n",
        "print(my_resume_score)\n",
        "\n",
        "prompt_improve_resume = f\"\"\"\n",
        "\n",
        "[System]\n",
        "\n",
        "Please act as a professional resume writer.\n",
        "\n",
        "\n",
        "Here is the resume:\n",
        "\n",
        "{my_resume}\n",
        "\n",
        "Here is the requirement for {target_position}:\n",
        "\n",
        "{job_description_long_text}\n",
        "\n",
        "Here is the improve hints:\n",
        "\n",
        "{my_resume_score}\n",
        "\n",
        "[User Question]\n",
        "\n",
        "return the resume with improvement in Relevant Work Experience, Quantifiable Achievements, Keyword Alignment\n",
        "\"\"\"\n",
        "\n",
        "\n",
        "response = model.generate_content(prompt_improve_resume)\n",
        "\n",
        "improved_resume = response.text\n",
        "# print(improved_resume)\n",
        "\n",
        "improved_resume_prompt = get_resume_score(improved_resume, target_position)\n",
        "\n",
        "response = model.generate_content(improved_resume_prompt)\n",
        "improved_resume_score = response.text\n",
        "print(\"\\n[Improved Resume Score]\")\n",
        "print(improved_resume_score)"
      ],
      "metadata": {
        "id": "NhzYWRud7Ac2"
      },
      "execution_count": null,
      "outputs": []
    }
  ]
}